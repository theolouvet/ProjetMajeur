{
 "cells": [
  {
   "cell_type": "markdown",
   "metadata": {},
   "source": [
    "# TP ML : Apprentissage supervisé - Part II"
   ]
  },
  {
   "cell_type": "markdown",
   "metadata": {},
   "source": [
    "### Nom-prénom du binôme :"
   ]
  },
  {
   "cell_type": "markdown",
   "metadata": {},
   "source": [
    "## - Import des données MNIST"
   ]
  },
  {
   "cell_type": "code",
   "execution_count": null,
   "metadata": {
    "scrolled": false
   },
   "outputs": [],
   "source": [
    "import matplotlib as mpl\n",
    "import matplotlib.pyplot as plt\n",
    "from pylab import *\n",
    "#from sklearn.datasets import fetch_mldata\n",
    "from sklearn.datasets import fetch_openml\n",
    "from sklearn.cluster import KMeans\n",
    "from sklearn import svm  \n",
    "from sklearn import datasets  \n",
    "import numpy as np\n",
    "from sklearn.feature_extraction import DictVectorizer\n",
    "\n",
    "#mnist = fetch_mldata(\"MNIST original\", data_home=\"/home/lartizien/TP_ML_CPE2019\")\n",
    "\n",
    "# Load data from https://www.openml.org/d/554\n",
    "X, Y = fetch_openml('mnist_784', version=1, return_X_y=True)\n",
    "Y=Y.astype(int)\n",
    "X=X / 255.\n",
    "\n",
    "print(X.shape)\n",
    "print(Y.shape) \n",
    "\n",
    "                    \n",
    "# rescale the data, use the traditional train/test split\n",
    "#X, Y = mnist.data / 255., mnist.target\n"
   ]
  },
  {
   "cell_type": "markdown",
   "metadata": {},
   "source": [
    "## - Construction de la base d'apprentissage"
   ]
  },
  {
   "cell_type": "code",
   "execution_count": null,
   "metadata": {},
   "outputs": [],
   "source": [
    "#Selection de n= 4000 points d'entrainements parmi les 60000 premiers exemples de MNIST\n",
    "np.random.seed(seed=10)\n",
    "\n",
    "ind_train=np.random.choice(np.arange(60000)+1, 4000, replace = False)\n",
    "\n",
    "print(ind_train.shape)\n",
    "print(max(ind_train))\n",
    "print(min(ind_train))\n",
    "\n",
    "x_train=X[ind_train]\n",
    "print(x_train.shape)\n",
    "\n",
    "y_train=Y[ind_train]\n",
    "print(y_train.shape)\n",
    "\n",
    "#Nb d'exemples par classe dans x_train\n",
    "\n",
    "a=0\n",
    "print(max(y_train))\n",
    "print(min(y_train))\n",
    "for k in range(0, 10): \n",
    "    print((y_train == k).sum())\n",
    "    a=a+((y_train == k).sum())\n",
    "print(a)\n",
    "\n",
    "#Construction de la base de test : 10000 derniers exemples de MNIST\n",
    "x_test = X[60000:]\n",
    "y_test = Y[60000:]\n",
    "a=0\n",
    "for k in range(0, 10): \n",
    "    print((y_test == k).sum())\n",
    "    a=a+((y_test == k).sum())\n",
    "print(a)"
   ]
  },
  {
   "cell_type": "markdown",
   "metadata": {},
   "source": [
    "## - Visualisation des données"
   ]
  },
  {
   "cell_type": "code",
   "execution_count": null,
   "metadata": {},
   "outputs": [],
   "source": [
    "ind_img=11450\n",
    "im=X[ind_img]\n",
    "print(Y[ind_img])\n",
    "im = im.reshape((28,28))\n",
    "mpl.pylab.imshow(im)\n"
   ]
  },
  {
   "cell_type": "markdown",
   "metadata": {},
   "source": [
    "## - A vous de jouer\n",
    "\n",
    "#### -  Entrainez et mesurez les performances des modèles suivants:\n",
    "- Linear SVM\n",
    "- RBF SVM\n",
    "\n",
    "#### et au moins un modèle parmi\n",
    "\n",
    "- Decision tree\n",
    "- Random forest\n",
    "- Régression logistique\n",
    ".....\n",
    "\n",
    "#### - Pour chaque modèle, faire varier ses hyperparamètres et reportez les résultats dans un tableau.\n",
    "\n",
    "#### Astuce : utilisez la fonction GridSearchCV"
   ]
  },
  {
   "cell_type": "code",
   "execution_count": null,
   "metadata": {},
   "outputs": [],
   "source": []
  },
  {
   "cell_type": "markdown",
   "metadata": {},
   "source": [
    "## - Pour aller plus loin\n",
    "\n",
    "Extract other feature types from the original MNIST data, eg  \n",
    "HOG features (see https://scikit-image.org/docs/dev/auto_examples/features_detection/plot_hog.html) (this requires to install the skimage package!)\n",
    "\n",
    "Estimate the best performance achieved with this new feature set. How does it compare to the performance achieved with the original grey level?\n"
   ]
  },
  {
   "cell_type": "code",
   "execution_count": null,
   "metadata": {},
   "outputs": [],
   "source": []
  }
 ],
 "metadata": {
  "celltoolbar": "Raw Cell Format",
  "kernelspec": {
   "display_name": "Python 3",
   "language": "python",
   "name": "python3"
  },
  "language_info": {
   "codemirror_mode": {
    "name": "ipython",
    "version": 3
   },
   "file_extension": ".py",
   "mimetype": "text/x-python",
   "name": "python",
   "nbconvert_exporter": "python",
   "pygments_lexer": "ipython3",
   "version": "3.7.4"
  }
 },
 "nbformat": 4,
 "nbformat_minor": 2
}
