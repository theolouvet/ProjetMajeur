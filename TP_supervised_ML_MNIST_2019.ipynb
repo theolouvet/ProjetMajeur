{
 "cells": [
  {
   "cell_type": "markdown",
   "metadata": {},
   "source": [
    "# TP ML : Apprentissage supervisé - Part II"
   ]
  },
  {
   "cell_type": "markdown",
   "metadata": {},
   "source": [
    "### Nom-prénom du binôme :"
   ]
  },
  {
   "cell_type": "markdown",
   "metadata": {},
   "source": [
    "## - Import des données MNIST"
   ]
  },
  {
   "cell_type": "code",
   "execution_count": 131,
   "metadata": {
    "scrolled": false
   },
   "outputs": [
    {
     "name": "stdout",
     "output_type": "stream",
     "text": [
      "(70000, 784)\n",
      "(70000,)\n"
     ]
    }
   ],
   "source": [
    "import matplotlib as mpl\n",
    "import matplotlib.pyplot as plt\n",
    "from pylab import *\n",
    "from sklearn.datasets import fetch_mldata\n",
    "#from sklearn.datasets import fetch_openml\n",
    "from sklearn.cluster import KMeans\n",
    "from sklearn import svm  \n",
    "from sklearn import datasets  \n",
    "import numpy as np\n",
    "from sklearn.feature_extraction import DictVectorizer\n",
    "from sklearn.model_selection import GridSearchCV\n",
    "\n",
    "#from mlxtend.data import loadlocal_mnist\n",
    "\n",
    "#mnist = fetch_mldata(\"MNIST original\", data_home=\"/home/lartizien/TP_ML_CPE2019\")\n",
    "\n",
    "#Load data from https://www.openml.org/d/554\n",
    "#X, Y = fetch_openml('mnist_784', version=1, return_X_y=True)\n",
    "\n",
    "mnist = fetch_mldata(\"MNIST original\", data_home=\"/softwares/INFO/IMI_module_ML/scikit_learn_data/\")\n",
    "\n",
    "\n",
    "X, Y = mnist.data / 255., mnist.target\n",
    "\n",
    "print(X.shape)\n",
    "print(Y.shape) \n",
    "\n",
    "                    \n",
    "# rescale the data, use the traditional train/test split\n",
    "X, Y = mnist.data / 255., mnist.target\n"
   ]
  },
  {
   "cell_type": "markdown",
   "metadata": {},
   "source": [
    "## - Construction de la base d'apprentissage"
   ]
  },
  {
   "cell_type": "code",
   "execution_count": 132,
   "metadata": {},
   "outputs": [
    {
     "name": "stdout",
     "output_type": "stream",
     "text": [
      "(1000,)\n",
      "59994\n",
      "26\n",
      "(1000, 784)\n",
      "(1000,)\n",
      "9.0\n",
      "0.0\n",
      "125\n",
      "105\n",
      "99\n",
      "103\n",
      "75\n",
      "80\n",
      "95\n",
      "86\n",
      "102\n",
      "130\n",
      "1000\n",
      "980\n",
      "1135\n",
      "1032\n",
      "1010\n",
      "982\n",
      "892\n",
      "958\n",
      "1028\n",
      "974\n",
      "1009\n",
      "10000\n"
     ]
    }
   ],
   "source": [
    "#Selection de n= 4000 points d'entrainements parmi les 60000 premiers exemples de MNIST\n",
    "np.random.seed(seed=10)\n",
    "\n",
    "ind_train=np.random.choice(np.arange(60000)+1, 1000, replace = False)\n",
    "\n",
    "print(ind_train.shape)\n",
    "print(max(ind_train))\n",
    "print(min(ind_train))\n",
    "\n",
    "x_train=X[ind_train]\n",
    "print(x_train.shape)\n",
    "\n",
    "y_train=Y[ind_train]\n",
    "print(y_train.shape)\n",
    "\n",
    "#Nb d'exemples par classe dans x_train\n",
    "\n",
    "a=0\n",
    "print(max(y_train))\n",
    "print(min(y_train))\n",
    "for k in range(0, 10): \n",
    "    print((y_train == k).sum())\n",
    "    a=a+((y_train == k).sum())\n",
    "print(a)\n",
    "\n",
    "#Construction de la base de test : 10000 derniers exemples de MNIST\n",
    "x_test = X[60000:]\n",
    "y_test = Y[60000:]\n",
    "a=0\n",
    "for k in range(0, 10): \n",
    "    print((y_test == k).sum())\n",
    "    a=a+((y_test == k).sum())\n",
    "print(a)"
   ]
  },
  {
   "cell_type": "markdown",
   "metadata": {},
   "source": [
    "## - Visualisation des données"
   ]
  },
  {
   "cell_type": "code",
   "execution_count": 133,
   "metadata": {},
   "outputs": [
    {
     "name": "stdout",
     "output_type": "stream",
     "text": [
      "1.0\n"
     ]
    },
    {
     "data": {
      "image/png": "[encoded data removed]",
      "text/plain": [
       "<matplotlib.figure.Figure at 0x7fc701036198>"
      ]
     },
     "metadata": {},
     "output_type": "display_data"
    }
   ],
   "source": [
    "ind_img=11450\n",
    "im=X[ind_img]\n",
    "print(Y[ind_img])\n",
    "im = im.reshape((28,28))\n",
    "mpl.pylab.imshow(im)\n",
    "plt.show()"
   ]
  },
  {
   "cell_type": "markdown",
   "metadata": {},
   "source": [
    "## - A vous de jouer\n",
    "\n",
    "#### -  Entrainez et mesurez les performances des modèles suivants:\n",
    "- Linear SVM\n",
    "- RBF SVM\n",
    "\n",
    "#### et au moins un modèle parmi\n",
    "\n",
    "- Decision tree\n",
    "- Random forest\n",
    "- Régression logistique\n",
    ".....\n",
    "\n",
    "#### - Pour chaque modèle, faire varier ses hyperparamètres et reportez les résultats dans un tableau.\n",
    "\n",
    "#### Astuce : utilisez la fonction GridSearchCV"
   ]
  },
  {
   "cell_type": "code",
   "execution_count": 134,
   "metadata": {},
   "outputs": [
    {
     "name": "stdout",
     "output_type": "stream",
     "text": [
      "test\n",
      "The parameters of the best model are: \n",
      "{'C': 1, 'kernel': 'linear'}\n",
      "{'mean_fit_time': array([ 0.27291021,  1.0242352 ,  0.270544  ,  1.02423043]), 'std_fit_time': array([ 0.00173755,  0.00575768,  0.00274472,  0.00374888]), 'mean_score_time': array([ 0.08579764,  0.13422685,  0.08484349,  0.13415627]), 'std_score_time': array([ 0.00130865,  0.00056898,  0.00116912,  0.00057792]), 'param_C': masked_array(data = [1 1 10 10],\n",
      "             mask = [False False False False],\n",
      "       fill_value = ?)\n",
      ", 'param_kernel': masked_array(data = ['linear' 'rbf' 'linear' 'rbf'],\n",
      "             mask = [False False False False],\n",
      "       fill_value = ?)\n",
      ", 'params': [{'C': 1, 'kernel': 'linear'}, {'C': 1, 'kernel': 'rbf'}, {'C': 10, 'kernel': 'linear'}, {'C': 10, 'kernel': 'rbf'}], 'split0_test_score': array([ 0.85643564,  0.51485149,  0.85643564,  0.55445545]), 'split1_test_score': array([ 0.86567164,  0.46766169,  0.86567164,  0.52736318]), 'split2_test_score': array([ 0.88 ,  0.475,  0.88 ,  0.515]), 'split3_test_score': array([ 0.90452261,  0.51256281,  0.90452261,  0.53768844]), 'split4_test_score': array([ 0.88383838,  0.48989899,  0.88383838,  0.53030303]), 'mean_test_score': array([ 0.878,  0.492,  0.878,  0.533]), 'std_test_score': array([ 0.01649301,  0.0191667 ,  0.01649301,  0.01303798]), 'rank_test_score': array([1, 4, 1, 3], dtype=int32), 'split0_train_score': array([ 1.,  1.,  1.,  1.]), 'split1_train_score': array([ 1.,  1.,  1.,  1.]), 'split2_train_score': array([ 1.,  1.,  1.,  1.]), 'split3_train_score': array([ 1.,  1.,  1.,  1.]), 'split4_train_score': array([ 1.,  1.,  1.,  1.]), 'mean_train_score': array([ 1.,  1.,  1.,  1.]), 'std_train_score': array([ 0.,  0.,  0.,  0.])}\n",
      "(10000, 784)\n",
      "(10000,)\n",
      "(100, 100)\n",
      "(100, 100)\n",
      "(5, 5)\n"
     ]
    },
    {
     "data": {
      "image/png": "[encoded data removed]",
      "text/plain": [
       "<matplotlib.figure.Figure at 0x7fc7010ec748>"
      ]
     },
     "metadata": {},
     "output_type": "display_data"
    }
   ],
   "source": [
    "print(\"test\")\n",
    "'''\n",
    "parameters = {'kernel':('linear', 'rbf'), 'C':[1, 10]}\n",
    "svc = svm.SVC(kernel='rbf', C=C, gamma = 0.1)\n",
    "clf = GridSearchCV(svc, parameters)\n",
    "clf.fit(x_train,y_train )\n",
    "\n",
    "sorted(clf.cv_results_.keys())\n",
    "'''\n",
    "svc = svm.SVC(kernel='rbf', C=C, gamma = 0.1)\n",
    "parameters = {'kernel':('linear', 'rbf'), 'C':[1, 10]}\n",
    "\n",
    "validator = GridSearchCV(svc,\n",
    "                         parameters, cv = 5)\n",
    "validator.fit(x_train, y_train)\n",
    "print('The parameters of the best model are: ')\n",
    "print(validator.best_params_)\n",
    "\n",
    "print(validator.cv_results_)\n",
    "\n",
    "\n",
    "\n",
    "C=1.00\n",
    "svc = svm.SVC(kernel='linear', C=C).fit(x_train, y_train)\n",
    "svc.fit(x_train, y_train) \n",
    "svc.get_params() \n",
    "svc.support_ #indice des vecteurs support\n",
    "svc.support_vectors_\n",
    "SV_multi=svc.support_vectors_\n",
    "SV_multi_ind=svc.support_\n",
    "h=0.02\n",
    "X=x_test\n",
    "Y=y_test\n",
    "print(X.shape)\n",
    "print(Y.shape)\n",
    "\n",
    "x_min, x_max = X[:, 0].min() - 1, X[:, 0].max() + 1\n",
    "y_min, y_max = X[:, 1].min() - 1, X[:, 1].max() + 1\n",
    "xx, yy = np.meshgrid(np.arange(x_min, x_max, h), np.arange(y_min, y_max, h))\n",
    "\n",
    "print(xx.shape)\n",
    "print(yy.shape)\n",
    "\n",
    "'''\n",
    "Z = svc.predict(np.c_[xx.ravel(), yy.ravel()]) #Z(51700,) renvoie classe (0 ou 1)\n",
    "Z = Z.reshape(xx.shape)#Z(220,235)\n",
    "plt.contourf(xx, yy, Z, cmap=plt.cm.coolwarm, alpha=0.2)\n",
    "# Affichage des points d'apprentissage\n",
    "plt.scatter(X[:, 0], X[:, 1], c=Y, cmap=plt.cm.coolwarm)\n",
    "#Affichage des vecteurs support\n",
    "plt.scatter(X[SV_multi_ind, 0], X[SV_multi_ind, 1], c='green', marker='x', s= 40)\n",
    "plt.show()'''\n",
    "\n",
    "Z = svc.predict(x_test) #Z(51700,) renvoie classe (0 ou 1)\n",
    "from sklearn.model_selection import validation_curve\n",
    "param_range = np.logspace(-6, -1, 5)\n",
    "train_scores, test_scores = validation_curve(svm.SVC(), x_train, y_train, param_name=\"gamma\", param_range=param_range, cv=5, scoring=\"accuracy\", n_jobs=1)\n",
    "print(train_scores.shape)\n",
    "\n",
    "train_scores_mean = np.mean(train_scores, axis=1)\n",
    "train_scores_std = np.std(train_scores, axis=1)\n",
    "test_scores_mean = np.mean(test_scores, axis=1)\n",
    "test_scores_std = np.std(test_scores, axis=1)\n",
    "\n",
    "plt.title(\"Validation Curve with SVM\")\n",
    "plt.xlabel(\"$gamma$\")\n",
    "plt.ylabel(\"Score\")\n",
    "plt.ylim(0.0, 1.1)\n",
    "lw = 2\n",
    "plt.semilogx(param_range, train_scores_mean, label=\"Training score\",\n",
    "             color=\"darkorange\", lw=lw)\n",
    "plt.fill_between(param_range, train_scores_mean - train_scores_std,\n",
    "                 train_scores_mean + train_scores_std, alpha=0.2,\n",
    "                 color=\"darkorange\", lw=lw)\n",
    "plt.semilogx(param_range, test_scores_mean, label=\"Cross-validation score\",\n",
    "             color=\"navy\", lw=lw)\n",
    "plt.fill_between(param_range, test_scores_mean - test_scores_std,\n",
    "                 test_scores_mean + test_scores_std, alpha=0.2,\n",
    "                 color=\"navy\", lw=lw)\n",
    "plt.legend(loc=\"best\")\n",
    "plt.show()\n",
    "\n",
    "\n"
   ]
  },
  {
   "cell_type": "markdown",
   "metadata": {},
   "source": [
    "## - Pour aller plus loin\n",
    "\n",
    "Extract other feature types from the original MNIST data, eg  \n",
    "HOG features (see https://scikit-image.org/docs/dev/auto_examples/features_detection/plot_hog.html) (this requires to install the skimage package!)\n",
    "\n",
    "Estimate the best performance achieved with this new feature set. How does it compare to the performance achieved with the original grey level?\n"
   ]
  },
  {
   "cell_type": "code",
   "execution_count": null,
   "metadata": {},
   "outputs": [],
   "source": []
  },
  {
   "cell_type": "code",
   "execution_count": null,
   "metadata": {},
   "outputs": [],
   "source": []
  },
  {
   "cell_type": "code",
   "execution_count": null,
   "metadata": {},
   "outputs": [],
   "source": []
  },
  {
   "cell_type": "code",
   "execution_count": null,
   "metadata": {},
   "outputs": [],
   "source": []
  },
  {
   "cell_type": "code",
   "execution_count": null,
   "metadata": {},
   "outputs": [],
   "source": []
  },
  {
   "cell_type": "code",
   "execution_count": null,
   "metadata": {},
   "outputs": [],
   "source": []
  },
  {
   "cell_type": "code",
   "execution_count": null,
   "metadata": {},
   "outputs": [],
   "source": []
  },
  {
   "cell_type": "code",
   "execution_count": null,
   "metadata": {},
   "outputs": [],
   "source": []
  },
  {
   "cell_type": "code",
   "execution_count": null,
   "metadata": {},
   "outputs": [],
   "source": []
  }
 ],
 "metadata": {
  "celltoolbar": "Raw Cell Format",
  "kernelspec": {
   "display_name": "Python 3",
   "language": "python",
   "name": "python3"
  },
  "language_info": {
   "codemirror_mode": {
    "name": "ipython",
    "version": 3
   },
   "file_extension": ".py",
   "mimetype": "text/x-python",
   "name": "python",
   "nbconvert_exporter": "python",
   "pygments_lexer": "ipython3",
   "version": "3.6.3"
  }
 },
 "nbformat": 4,
 "nbformat_minor": 2
}
